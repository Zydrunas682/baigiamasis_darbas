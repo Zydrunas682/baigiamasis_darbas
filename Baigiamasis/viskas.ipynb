{
 "cells": [
  {
   "cell_type": "code",
   "execution_count": null,
   "metadata": {},
   "outputs": [
    {
     "name": "stdout",
     "output_type": "stream",
     "text": [
      "Nerasta skelbimų.\n"
     ]
    }
   ],
   "source": [
    "# skelbimu pavadinimai ir kainos\n",
    "\n",
    "import requests\n",
    "from bs4 import BeautifulSoup\n",
    "import csv\n",
    "\n",
    "# 1. Sukuriame funkciją, kad parsisiųstume tinklapio HTML\n",
    "def get_page_content(url):\n",
    "    headers = {\n",
    "        'User-Agent': 'Mozilla/5.0 (Windows NT 10.0; Win64; x64) AppleWebKit/537.36 (KHTML, like Gecko) Chrome/91.0.4472.124 Safari/537.36'\n",
    "    }\n",
    "    response = requests.get(url, headers=headers)\n",
    "    if response.status_code == 200:\n",
    "        return response.text\n",
    "    else:\n",
    "        print(f\"Error: Unable to fetch page content from {url}\")\n",
    "        return None\n",
    "\n",
    "# 2. Funkcija, kuri analizuoja HTML ir ištraukia skelbimų pavadinimus ir kainas\n",
    "def extract_ad_data(page_content):\n",
    "    soup = BeautifulSoup(page_content, 'html.parser')\n",
    "    ads = []\n",
    "\n",
    "    # Atsižvelgiame į tinklapio struktūrą, kurią galima gauti analizuojant HTML (būtinai patikrinkite, ar struktūra teisinga)\n",
    "    ad_list = soup.find_all('div', class_='list_item')  # Pavyzdinė klasė, patikrinkite tiksliai tinklapio struktūrą\n",
    "    for ad in ad_list:\n",
    "        title = ad.find('a', class_='list_item-title')\n",
    "        price = ad.find('span', class_='price')\n",
    "\n",
    "        if title and price:\n",
    "            ad_title = title.get_text(strip=True)\n",
    "            ad_price = price.get_text(strip=True)\n",
    "            ads.append([ad_title, ad_price])\n",
    "\n",
    "    return ads\n",
    "\n",
    "# 3. Funkcija, kuri išsaugo surinktus duomenis į CSV failą\n",
    "def save_to_csv(data, filename):\n",
    "    with open(filename, mode='w', newline='', encoding='utf-8') as file:\n",
    "        writer = csv.writer(file)\n",
    "        writer.writerow(['Pavadinimas', 'Kaina'])  # CSV antraštė\n",
    "        writer.writerows(data)\n",
    "    print(f\"Duomenys išsaugoti faile: {filename}\")\n",
    "\n",
    "# 4. Pagrindinė funkcija, kuri sujungia visus veiksmus\n",
    "def main():\n",
    "    url = 'https://elenta.lt/'  # Tinklapio URL\n",
    "    page_content = get_page_content(url)\n",
    "\n",
    "    if page_content:\n",
    "        ads_data = extract_ad_data(page_content)\n",
    "        if ads_data:\n",
    "            save_to_csv(ads_data, 'skelbimai.csv')\n",
    "        else:\n",
    "            print(\"Nerasta skelbimų.\")\n",
    "    else:\n",
    "        print(\"Nepavyko gauti tinklapio turinio.\")\n",
    "\n",
    "# Paleidžiame programą\n",
    "if __name__ == \"__main__\":\n",
    "    main()\n"
   ]
  }
 ],
 "metadata": {
  "kernelspec": {
   "display_name": "Python 3",
   "language": "python",
   "name": "python3"
  },
  "language_info": {
   "codemirror_mode": {
    "name": "ipython",
    "version": 3
   },
   "file_extension": ".py",
   "mimetype": "text/x-python",
   "name": "python",
   "nbconvert_exporter": "python",
   "pygments_lexer": "ipython3",
   "version": "3.13.0"
  }
 },
 "nbformat": 4,
 "nbformat_minor": 2
}
